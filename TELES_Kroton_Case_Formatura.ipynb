{
 "cells": [
  {
   "cell_type": "markdown",
   "metadata": {},
   "source": [
    "<h3>Análise Inicial dos Dados</h3>\n",
    "<h4>Variáveis Preditoras:</h4>\n",
    "<pre>\n",
    "Índice     Nome                 Tipo\n",
    ".................................................\n",
    "   1       COD_UNIDADE          Categórica-Nominal\n",
    "   2       COD_TURMA            Categórica-Nominal\n",
    "  12       DURACAO_CURSO        Numérica-Discreta\n",
    "  17       NR_TOTAL_DISCIPLINAS Numérica-Discreta\n",
    "  20       T_IDADE              Numérica-Discreta\n",
    "  21       NOTA                 Numérica-Contínua\n",
    "  23       POSSUI_ENEM          Numérica-Discreta \n",
    "  27       SEMESTRES_CURSADOS   Numérica-Discreta\n",
    "  28       POSSUI FIES          Categórica-Ordinal\n",
    "</pre>\n",
    "\n",
    "<h4>Classes:</h4>\n",
    "<pre>\n",
    "Nome                 Tipo\n",
    "......................................\n",
    "SEMESTRES_ATRASADOS  Numérica-Discreta\n",
    "\n",
    "\n",
    "Foram identificadas 29 classes: \n",
    "    [0  1  2  3  4  5  6  7  8  9 10 11 12 13 14 \n",
    "    15 16 18 20 21 22 24 40 57 62 64 80 90 98]\n",
    "</pre>"
   ]
  },
  {
   "cell_type": "code",
   "execution_count": 1,
   "metadata": {},
   "outputs": [
    {
     "name": "stderr",
     "output_type": "stream",
     "text": [
      "C:\\Users\\ebteles\\Anaconda3\\lib\\site-packages\\sklearn\\cross_validation.py:41: DeprecationWarning: This module was deprecated in version 0.18 in favor of the model_selection module into which all the refactored classes and functions are moved. Also note that the interface of the new CV iterators are different from that of this module. This module will be removed in 0.20.\n",
      "  \"This module will be removed in 0.20.\", DeprecationWarning)\n"
     ]
    }
   ],
   "source": [
    "# importar bibliotecas python\n",
    "import pandas as pd\n",
    "import numpy as np\n",
    "from sklearn.preprocessing import Imputer, StandardScaler\n",
    "from sklearn.linear_model import LogisticRegression\n",
    "from sklearn.cross_validation import train_test_split\n",
    "from sklearn.preprocessing import LabelEncoder, OneHotEncoder"
   ]
  },
  {
   "cell_type": "code",
   "execution_count": 2,
   "metadata": {
    "collapsed": true
   },
   "outputs": [],
   "source": [
    "# importar dados\n",
    "base = pd.read_csv('case_Formatura.csv', encoding='ISO-8859-1')"
   ]
  },
  {
   "cell_type": "code",
   "execution_count": 3,
   "metadata": {},
   "outputs": [
    {
     "name": "stdout",
     "output_type": "stream",
     "text": [
      "Foram removidos 36 registros da base\n"
     ]
    },
    {
     "name": "stderr",
     "output_type": "stream",
     "text": [
      "C:\\Users\\ebteles\\Anaconda3\\lib\\site-packages\\ipykernel_launcher.py:8: SettingWithCopyWarning: \n",
      "A value is trying to be set on a copy of a slice from a DataFrame\n",
      "\n",
      "See the caveats in the documentation: http://pandas.pydata.org/pandas-docs/stable/indexing.html#indexing-view-versus-copy\n",
      "  \n"
     ]
    }
   ],
   "source": [
    "# Definir e tratar variáveis preditoras\n",
    "previsores = base.iloc[:,[1, 2, 12, 17, 20, 21, 23, 27, 28]]\n",
    "\n",
    "# Identificar e remover alunos não formados\n",
    "total_nao_formado = previsores.loc[previsores['SEMESTRES_CURSADOS'] < previsores['DURACAO_CURSO']].shape[0]\n",
    "\n",
    "if total_nao_formado > 0:\n",
    "    previsores.drop(previsores.loc[previsores['SEMESTRES_CURSADOS'] < previsores['DURACAO_CURSO']].index, inplace=True)\n",
    "    print('Foram removidos {} registros da base'.format(total_nao_formado))\n",
    "else:\n",
    "    print('Nenhum registro foi removido')"
   ]
  },
  {
   "cell_type": "code",
   "execution_count": 4,
   "metadata": {},
   "outputs": [
    {
     "name": "stderr",
     "output_type": "stream",
     "text": [
      "C:\\Users\\ebteles\\Anaconda3\\lib\\site-packages\\pandas\\core\\indexing.py:517: SettingWithCopyWarning: \n",
      "A value is trying to be set on a copy of a slice from a DataFrame.\n",
      "Try using .loc[row_indexer,col_indexer] = value instead\n",
      "\n",
      "See the caveats in the documentation: http://pandas.pydata.org/pandas-docs/stable/indexing.html#indexing-view-versus-copy\n",
      "  self.obj[item] = s\n"
     ]
    }
   ],
   "source": [
    "labelencoder_previsores = LabelEncoder()\n",
    "previsores.iloc[:, 0] = labelencoder_previsores.fit_transform(previsores.iloc[:, 0]) # unidade\n",
    "previsores.iloc[:, 1] = labelencoder_previsores.fit_transform(previsores.iloc[:, 1]) # turma\n",
    "previsores.iloc[:, 8] = labelencoder_previsores.fit_transform(previsores.iloc[:, 8]) # possui fies"
   ]
  },
  {
   "cell_type": "code",
   "execution_count": 5,
   "metadata": {},
   "outputs": [],
   "source": [
    "# Definir e tratar classes (semestres para conclusão do curso)\n",
    "classe = pd.DataFrame(previsores['SEMESTRES_CURSADOS'] - previsores['DURACAO_CURSO'], columns=['SEMESTRES_ATRASADOS'])\n",
    "total_classe = classe['SEMESTRES_ATRASADOS'].unique().shape[0] \n",
    "# print(classes.describe())\n",
    "# print('Total de classes: ', total_classe)\n",
    "# print('Lista de classes: ', np.sort(classe['SEMESTRES_ATRASADOS'].unique()))"
   ]
  },
  {
   "cell_type": "code",
   "execution_count": 13,
   "metadata": {},
   "outputs": [],
   "source": [
    "# escalonamento\n",
    "scaler = StandardScaler()\n",
    "previsores = scaler.fit_transform(previsores)"
   ]
  },
  {
   "cell_type": "code",
   "execution_count": 21,
   "metadata": {},
   "outputs": [],
   "source": [
    "# segmentação: treino e teste\n",
    "previsores_treinamento, previsores_teste, classe_treinamento, classe_teste = train_test_split(previsores, classe, test_size=0.10, random_state=0)"
   ]
  },
  {
   "cell_type": "code",
   "execution_count": 22,
   "metadata": {},
   "outputs": [
    {
     "name": "stderr",
     "output_type": "stream",
     "text": [
      "C:\\Users\\ebteles\\Anaconda3\\lib\\site-packages\\sklearn\\utils\\validation.py:547: DataConversionWarning: A column-vector y was passed when a 1d array was expected. Please change the shape of y to (n_samples, ), for example using ravel().\n",
      "  y = column_or_1d(y, warn=True)\n"
     ]
    }
   ],
   "source": [
    "# importação da biblioteca\n",
    "classificador = LogisticRegression()\n",
    "classificador.fit(previsores_treinamento, classe_treinamento)\n",
    "previsoes = classificador.predict(previsores_teste)"
   ]
  },
  {
   "cell_type": "code",
   "execution_count": 23,
   "metadata": {},
   "outputs": [
    {
     "name": "stderr",
     "output_type": "stream",
     "text": [
      "C:\\Users\\ebteles\\Anaconda3\\lib\\site-packages\\sklearn\\utils\\validation.py:547: DataConversionWarning: A column-vector y was passed when a 1d array was expected. Please change the shape of y to (n_samples, ), for example using ravel().\n",
      "  y = column_or_1d(y, warn=True)\n"
     ]
    }
   ],
   "source": [
    "# criação do classificador\n",
    "classificador.fit(previsores_treinamento, classe_treinamento)\n",
    "previsoes = classificador.predict(previsores_teste)"
   ]
  },
  {
   "cell_type": "code",
   "execution_count": 24,
   "metadata": {
    "collapsed": true
   },
   "outputs": [],
   "source": [
    "# matriz de confusao\n",
    "from sklearn.metrics import confusion_matrix, accuracy_score\n",
    "precisao = accuracy_score(classe_teste, previsoes)\n",
    "matriz = confusion_matrix(classe_teste, previsoes)"
   ]
  },
  {
   "cell_type": "code",
   "execution_count": 25,
   "metadata": {},
   "outputs": [
    {
     "data": {
      "text/plain": [
       "Counter({'SEMESTRES_ATRASADOS': 1})"
      ]
     },
     "execution_count": 25,
     "metadata": {},
     "output_type": "execute_result"
    }
   ],
   "source": [
    "import collections\n",
    "collections.Counter(classe_teste)"
   ]
  },
  {
   "cell_type": "code",
   "execution_count": 26,
   "metadata": {},
   "outputs": [
    {
     "name": "stdout",
     "output_type": "stream",
     "text": [
      "Precisão = 0.846053205408\n",
      "Fim\n"
     ]
    }
   ],
   "source": [
    "print('Precisão =', precisao)\n",
    "print('Fim')"
   ]
  },
  {
   "cell_type": "code",
   "execution_count": null,
   "metadata": {
    "collapsed": true
   },
   "outputs": [],
   "source": []
  }
 ],
 "metadata": {
  "kernelspec": {
   "display_name": "Python 3",
   "language": "python",
   "name": "python3"
  },
  "language_info": {
   "codemirror_mode": {
    "name": "ipython",
    "version": 3
   },
   "file_extension": ".py",
   "mimetype": "text/x-python",
   "name": "python",
   "nbconvert_exporter": "python",
   "pygments_lexer": "ipython3",
   "version": "3.8.5"
  }
 },
 "nbformat": 4,
 "nbformat_minor": 2
}
